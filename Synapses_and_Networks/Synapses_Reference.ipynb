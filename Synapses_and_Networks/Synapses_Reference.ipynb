{
 "cells": [
  {
   "cell_type": "markdown",
   "metadata": {
    "slideshow": {
     "slide_type": "slide"
    }
   },
   "source": [
    "# Neuronal connectivity: synapses\n",
    "\n",
    "All synapse types included in NEST can be found in the following link:\n",
    "\n",
    "https://nest-simulator.readthedocs.io/en/latest/models/synapses.html\n",
    "\n",
    "**Source:** https://nest-simulator.readthedocs.io/en/latest/tutorials/pynest_tutorial/part_3_connecting_networks_with_synapses.html"
   ]
  },
  {
   "cell_type": "markdown",
   "metadata": {
    "slideshow": {
     "slide_type": "slide"
    }
   },
   "source": [
    "You can verify all synapse models present in NEST using the following command:"
   ]
  },
  {
   "cell_type": "code",
   "execution_count": 1,
   "metadata": {
    "scrolled": false,
    "slideshow": {
     "slide_type": "slide"
    }
   },
   "outputs": [
    {
     "data": {
      "text/plain": [
       "('bernoulli_synapse',\n",
       " 'bernoulli_synapse_lbl',\n",
       " 'clopath_synapse',\n",
       " 'clopath_synapse_lbl',\n",
       " 'cont_delay_synapse',\n",
       " 'cont_delay_synapse_hpc',\n",
       " 'cont_delay_synapse_lbl',\n",
       " 'diffusion_connection',\n",
       " 'diffusion_connection_lbl',\n",
       " 'gap_junction',\n",
       " 'gap_junction_lbl',\n",
       " 'ht_synapse',\n",
       " 'ht_synapse_hpc',\n",
       " 'ht_synapse_lbl',\n",
       " 'quantal_stp_synapse',\n",
       " 'quantal_stp_synapse_hpc',\n",
       " 'quantal_stp_synapse_lbl',\n",
       " 'rate_connection_delayed',\n",
       " 'rate_connection_delayed_lbl',\n",
       " 'rate_connection_instantaneous',\n",
       " 'rate_connection_instantaneous_lbl',\n",
       " 'static_synapse',\n",
       " 'static_synapse_hom_w',\n",
       " 'static_synapse_hom_w_hpc',\n",
       " 'static_synapse_hom_w_lbl',\n",
       " 'static_synapse_hpc',\n",
       " 'static_synapse_lbl',\n",
       " 'stdp_dopamine_synapse',\n",
       " 'stdp_dopamine_synapse_hpc',\n",
       " 'stdp_dopamine_synapse_lbl',\n",
       " 'stdp_facetshw_synapse_hom',\n",
       " 'stdp_facetshw_synapse_hom_hpc',\n",
       " 'stdp_facetshw_synapse_hom_lbl',\n",
       " 'stdp_pl_synapse_hom',\n",
       " 'stdp_pl_synapse_hom_hpc',\n",
       " 'stdp_pl_synapse_hom_lbl',\n",
       " 'stdp_synapse',\n",
       " 'stdp_synapse_hom',\n",
       " 'stdp_synapse_hom_hpc',\n",
       " 'stdp_synapse_hom_lbl',\n",
       " 'stdp_synapse_hpc',\n",
       " 'stdp_synapse_lbl',\n",
       " 'stdp_triplet_synapse',\n",
       " 'stdp_triplet_synapse_hpc',\n",
       " 'stdp_triplet_synapse_lbl',\n",
       " 'tsodyks2_synapse',\n",
       " 'tsodyks2_synapse_hpc',\n",
       " 'tsodyks2_synapse_lbl',\n",
       " 'tsodyks_synapse',\n",
       " 'tsodyks_synapse_hom',\n",
       " 'tsodyks_synapse_hom_hpc',\n",
       " 'tsodyks_synapse_hom_lbl',\n",
       " 'tsodyks_synapse_hpc',\n",
       " 'tsodyks_synapse_lbl',\n",
       " 'vogels_sprekeler_synapse',\n",
       " 'vogels_sprekeler_synapse_hpc',\n",
       " 'vogels_sprekeler_synapse_lbl')"
      ]
     },
     "execution_count": 1,
     "metadata": {},
     "output_type": "execute_result"
    }
   ],
   "source": [
    "import nest\n",
    "nest.Models('synapses')"
   ]
  },
  {
   "cell_type": "markdown",
   "metadata": {
    "slideshow": {
     "slide_type": "slide"
    }
   },
   "source": [
    "# Static Synapse"
   ]
  },
  {
   "cell_type": "code",
   "execution_count": 13,
   "metadata": {
    "slideshow": {
     "slide_type": "slide"
    }
   },
   "outputs": [
    {
     "data": {
      "text/plain": [
       "{'delay': 1.0,\n",
       " 'has_delay': True,\n",
       " 'num_connections': 0,\n",
       " 'receptor_type': 0,\n",
       " 'requires_symmetric': False,\n",
       " 'sizeof': 32,\n",
       " 'synapse_model': <SLILiteral: static_synapse>,\n",
       " 'weight': 1.0,\n",
       " 'weight_recorder': -1}"
      ]
     },
     "execution_count": 13,
     "metadata": {},
     "output_type": "execute_result"
    }
   ],
   "source": [
    "nest.GetDefaults('static_synapse')"
   ]
  },
  {
   "cell_type": "code",
   "execution_count": null,
   "metadata": {},
   "outputs": [],
   "source": []
  },
  {
   "cell_type": "markdown",
   "metadata": {
    "slideshow": {
     "slide_type": "slide"
    }
   },
   "source": [
    "# STDP (spike-time dependent plasticity) synapse\n",
    "## Temporally asymmetric Hebbian plasticity\n",
    "\n",
    "$\\Delta t \\equiv t_{post} - t_{pre} $\n",
    "\n",
    "\\begin{equation}\n",
    "    \\Delta w = \\begin{cases} - \\lambda f_{-}(w) \\times K(\\Delta t) & \\text{if $\\Delta t \\leq 0$,} \\\\\n",
    "    \\lambda f_{+}(w) \\times K(\\Delta t) & \\text{if $\\Delta t > 0$,} \\end{cases}\n",
    "\\end{equation}\n",
    "\n",
    "Temporal filter $K(\\Delta t) = \\exp \\big(-\\frac{|\\Delta t|}{\\tau}\\big)$\n",
    "\n",
    "\\begin{equation}\n",
    "    f_{+}(w) = (1-w)^{\\mu_{+}} \\text{ and } f_{-}(w) = \\alpha w^{\\mu_{-}}\n",
    "\\end{equation}\n",
    "\n",
    "> Guetig et al. (2003). Learning input correlations through nonlinear temporally asymmetric hebbian plasticity. Journal of Neuroscience, 23:3697-3714 DOI: https://doi.org/10.1523/JNEUROSCI.23-09-03697.2003\n",
    "\n",
    "> Rubin J, Lee D, Sompolinsky H (2001). Equilibrium properties of temporally asymmetric Hebbian plasticity. Physical Review Letters, 86:364-367. DOI: https://doi.org/10.1103/PhysRevLett.86.364\n",
    "\n",
    "> Song S, Miller KD, Abbott LF (2000). Competitive Hebbian learning through spike-timing-dependent synaptic plasticity. Nature Neuroscience 3(9):919-926. DOI: https://doi.org/10.1038/78829\n",
    "\n",
    "> van Rossum MCW, Bi G-Q, Turrigiano GG (2000). Stable Hebbian learning from spike timing-dependent plasticity. Journal of Neuroscience, 20(23):8812-8821. DOI: https://doi.org/10.1523/JNEUROSCI.20-23-08812.2000\n"
   ]
  },
  {
   "cell_type": "code",
   "execution_count": 2,
   "metadata": {
    "slideshow": {
     "slide_type": "slide"
    }
   },
   "outputs": [
    {
     "data": {
      "text/plain": [
       "{'lambda': 0.01,\n",
       " 'alpha': 1.0,\n",
       " 'delay': 1.0,\n",
       " 'has_delay': True,\n",
       " 'mu_minus': 1.0,\n",
       " 'mu_plus': 1.0,\n",
       " 'num_connections': 0,\n",
       " 'receptor_type': 0,\n",
       " 'requires_symmetric': False,\n",
       " 'sizeof': 96,\n",
       " 'synapse_model': <SLILiteral: stdp_synapse>,\n",
       " 'tau_plus': 20.0,\n",
       " 'weight': 1.0,\n",
       " 'weight_recorder': -1,\n",
       " 'Wmax': 100.0}"
      ]
     },
     "execution_count": 2,
     "metadata": {},
     "output_type": "execute_result"
    }
   ],
   "source": [
    "nest.GetDefaults('stdp_synapse')"
   ]
  },
  {
   "cell_type": "code",
   "execution_count": 3,
   "metadata": {
    "slideshow": {
     "slide_type": "slide"
    }
   },
   "outputs": [],
   "source": [
    "nest.SetDefaults(\"stdp_synapse\",{\"tau_plus\": 15.0})"
   ]
  },
  {
   "cell_type": "code",
   "execution_count": null,
   "metadata": {
    "slideshow": {
     "slide_type": "slide"
    }
   },
   "outputs": [],
   "source": [
    "nest.CopyModel(\"stdp_synapse\",\"layer1_stdp_synapse\",{\"Wmax\": 90.0})"
   ]
  },
  {
   "cell_type": "code",
   "execution_count": null,
   "metadata": {
    "slideshow": {
     "slide_type": "slide"
    }
   },
   "outputs": [],
   "source": [
    "nest.Create(\"iaf_psc_alpha\", params={\"tau_minus\": 30.0})"
   ]
  },
  {
   "cell_type": "code",
   "execution_count": null,
   "metadata": {
    "slideshow": {
     "slide_type": "slide"
    }
   },
   "outputs": [],
   "source": [
    "conn_dict = {\"rule\": \"fixed_indegree\", \"indegree\": K}\n",
    "syn_dict = {\"model\": \"stdp_synapse\", \"alpha\": 1.0}\n",
    "nest.Connect(epop1, epop2, conn_dict, syn_dict)"
   ]
  },
  {
   "cell_type": "code",
   "execution_count": null,
   "metadata": {
    "slideshow": {
     "slide_type": "slide"
    }
   },
   "outputs": [],
   "source": [
    "alpha_min = 0.1\n",
    "alpha_max = 2.\n",
    "w_min = 0.5\n",
    "w_max = 5.\n",
    "\n",
    "syn_dict = {\"model\": \"stdp_synapse\",\n",
    "            \"alpha\": {\"distribution\": \"uniform\", \"low\": alpha_min, \"high\": alpha_max},\n",
    "            \"weight\": {\"distribution\": \"uniform\", \"low\": w_min, \"high\": w_max},\n",
    "            \"delay\": 1.0}\n",
    "nest.Connect(epop1, neuron, \"all_to_all\", syn_dict)"
   ]
  },
  {
   "cell_type": "markdown",
   "metadata": {
    "slideshow": {
     "slide_type": "slide"
    }
   },
   "source": [
    "| Distributions | Keys             |\n",
    "|---------------|------------------|\n",
    "| `normal`      | `mu`, `sigma`    |\n",
    "| `lognormal`   | `mu`, `sigma`    |\n",
    "| `uniform`     | `low`, `high`    |\n",
    "| `uniform_int` | `low`, `high`    |\n",
    "| `binomial`    | `n`, `p`         |\n",
    "| `exponential` | `lambda`         |\n",
    "| `gamma`       | `order`, `scale` |\n",
    "| `poisson`     | `lambda`         |"
   ]
  },
  {
   "cell_type": "code",
   "execution_count": null,
   "metadata": {
    "slideshow": {
     "slide_type": "slide"
    }
   },
   "outputs": [],
   "source": [
    "nest.GetConnections(epop1)"
   ]
  },
  {
   "cell_type": "code",
   "execution_count": null,
   "metadata": {
    "slideshow": {
     "slide_type": "slide"
    }
   },
   "outputs": [],
   "source": [
    "nest.GetConnections(target=epop2)"
   ]
  },
  {
   "cell_type": "code",
   "execution_count": null,
   "metadata": {
    "slideshow": {
     "slide_type": "slide"
    }
   },
   "outputs": [],
   "source": [
    "nest.GetConnections(synapse_model=\"stdp_synapse\")"
   ]
  },
  {
   "cell_type": "code",
   "execution_count": null,
   "metadata": {
    "slideshow": {
     "slide_type": "slide"
    }
   },
   "outputs": [],
   "source": [
    "nest.GetConnections(epop1, epop2, \"stdp_synapse\")"
   ]
  },
  {
   "cell_type": "code",
   "execution_count": null,
   "metadata": {
    "slideshow": {
     "slide_type": "slide"
    }
   },
   "outputs": [],
   "source": [
    "conns = nest.GetConnections(epop1, synapse_model=\"stdp_synapse\")\n",
    "targets = nest.GetStatus(conns, \"target\")"
   ]
  },
  {
   "cell_type": "code",
   "execution_count": null,
   "metadata": {
    "slideshow": {
     "slide_type": "slide"
    }
   },
   "outputs": [],
   "source": [
    "conns = nest.GetConnections(epop1, synapse_model=\"stdp_synapse\")\n",
    "conn_vals = nest.GetStatus(conns, [\"target\",\"weight\"])"
   ]
  }
 ],
 "metadata": {
  "celltoolbar": "Slideshow",
  "kernelspec": {
   "display_name": "Python 3",
   "language": "python",
   "name": "python3"
  },
  "language_info": {
   "codemirror_mode": {
    "name": "ipython",
    "version": 3
   },
   "file_extension": ".py",
   "mimetype": "text/x-python",
   "name": "python",
   "nbconvert_exporter": "python",
   "pygments_lexer": "ipython3",
   "version": "3.7.4"
  }
 },
 "nbformat": 4,
 "nbformat_minor": 4
}
