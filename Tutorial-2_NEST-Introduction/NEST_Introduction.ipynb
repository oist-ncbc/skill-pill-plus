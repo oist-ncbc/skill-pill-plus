{
 "cells": [
  {
   "cell_type": "markdown",
   "metadata": {},
   "source": [
    "# Introduction to NEST"
   ]
  },
  {
   "cell_type": "markdown",
   "metadata": {},
   "source": [
    "The NEST simulator recreates the electrophysiological experiment in the laboratory. Inside this framework, a neural system has a collection of **Nodes** and **Connections** which are defined by the user's code. **Nodes** represent *neurons* and *devices* whereas **Connections** represent *synapses*.\n",
    "\n",
    "To measure activity of a neuron or of a neural system, you may connect *devices* to them such as a voltmeter, a spike generator, etc. These instruments are usually present in all electrophysiological experiments! In NEST, the readings of these devices are written on to memory and can be accessed and plotted after the simulation is finished."
   ]
  },
  {
   "cell_type": "markdown",
   "metadata": {},
   "source": [
    "PyNEST is a python library that provides the instructions for the python interpreter to interact with the NEST simulator which is originally written in the C++ programming language.\n",
    "\n",
    "In the following tutorial, we will cover the following aspects of the library:\n",
    "\n",
    "* Creating nodes\n",
    "* Connecting nodes with default and specific connectivities\n",
    "* Performing simulations \n",
    "* Extracting and plotting measurements"
   ]
  },
  {
   "cell_type": "markdown",
   "metadata": {},
   "source": [
    "**Documentation: https://nest-simulator.readthedocs.io/en/latest/contents.html**"
   ]
  },
  {
   "cell_type": "markdown",
   "metadata": {},
   "source": [
    "Before we start, let's import the necessary libraries."
   ]
  },
  {
   "cell_type": "code",
   "execution_count": null,
   "metadata": {},
   "outputs": [],
   "source": [
    "import nest\n",
    "import matplotlib.pyplot as plt\n",
    "%matplotlib inline"
   ]
  },
  {
   "cell_type": "code",
   "execution_count": null,
   "metadata": {},
   "outputs": [],
   "source": [
    "plt.rcParams['figure.dpi'] = 300.0 # modifying dots per inch for figures"
   ]
  },
  {
   "cell_type": "markdown",
   "metadata": {},
   "source": [
    "Please note that if you need to import other packages like scipy or scikit-learn, you should import these before nest."
   ]
  },
  {
   "cell_type": "markdown",
   "metadata": {},
   "source": [
    "For NEST to simulate different experiments, its kernel (core functionality) needs to be reseted for every new simulation. Please remember to run this code before running each simulation."
   ]
  },
  {
   "cell_type": "code",
   "execution_count": null,
   "metadata": {},
   "outputs": [],
   "source": [
    "nest.ResetKernel() # reset simulation kernel"
   ]
  },
  {
   "cell_type": "markdown",
   "metadata": {},
   "source": [
    "### Creating nodes and connections with default values"
   ]
  },
  {
   "cell_type": "markdown",
   "metadata": {},
   "source": [
    "Conceptually, neural networks consists of neurons and connections. Nodes can be *neurons*, *sub-networks* or *devices* inside the NEST framework. We will use devices to stimulate neurons and to measure their membrane potential. Sub-networks, on the other hand, are arrangements of neurons whose parameters may be modified as a group. We will look at sub-networks in the following lectures. \n",
    "\n",
    "For now, we will focus on constructing a leaky integrate-and-fire (LIF) neuron with delta-shaped synaptic currents:"
   ]
  },
  {
   "cell_type": "markdown",
   "metadata": {},
   "source": [
    "<img src=\"https://icwww.epfl.ch/~gerstner/SPNM/img378.gif\">"
   ]
  },
  {
   "cell_type": "markdown",
   "metadata": {},
   "source": [
    "In this figure, a delta-shaped pulse $\\delta(t-t_j^f)$ from neuron $j$ is being transmitted along its axon until it reaches neuron $i$'s dendrites through a synapse.\n",
    "\n",
    "Synapses are modelled as low-pass RC circuit filters which output a current $\\alpha(t-t_j^f)$. These presynaptic currents reach the soma as an input current $I(t)$ which charges the capacitor $C$ (integration) while some of it leaks out through the resistance $R$. The electrical components here represent a circuit modelization of the biological mechanisms happening at the synapse and the soma.\n",
    "\n",
    "In this model, the membrane's potential is represented by capacitor $C$ such that when it has enough charge and reaches the threshold potential $\\vartheta$, a spike $\\delta(t-t_i^f)$ is generated and transmitted."
   ]
  },
  {
   "cell_type": "code",
   "execution_count": null,
   "metadata": {},
   "outputs": [],
   "source": [
    "# create LIF neuron with delta-shaped synaptic currents\n",
    "neuron=nest.Create('iaf_psc_alpha')"
   ]
  },
  {
   "cell_type": "markdown",
   "metadata": {},
   "source": [
    "Parameters of this neuron can be accessed with the `GetStatus()` function:"
   ]
  },
  {
   "cell_type": "code",
   "execution_count": null,
   "metadata": {},
   "outputs": [],
   "source": [
    "# get the parameter list and values of a node\n",
    "nest.GetStatus(neuron)"
   ]
  },
  {
   "cell_type": "markdown",
   "metadata": {},
   "source": [
    "From this list, please note the values of `C_m`, `E_L`, `tau_m`, `V_m`, `V_reset` and `V_th`. The units of each parameter is not represented but are standarized to `pF` (picofaraday), `ms` (miliseconds) and `mV` (milivolts). \n",
    "\n",
    "You might have noticed that there is no parameter for the membrane resistance `R_m` as shown in the previous figure. \n",
    "\n",
    "**1.- Can you think of an explanation for this?**"
   ]
  },
  {
   "cell_type": "code",
   "execution_count": null,
   "metadata": {},
   "outputs": [],
   "source": [
    "# retrieve a particular set of parameters\n",
    "nest.GetStatus(neuron,['V_reset','V_th'])"
   ]
  },
  {
   "cell_type": "code",
   "execution_count": null,
   "metadata": {},
   "outputs": [],
   "source": [
    "# create a spike generator\n",
    "spikegenerator=nest.Create('spike_generator')"
   ]
  },
  {
   "cell_type": "markdown",
   "metadata": {},
   "source": [
    "Parameters of this device can be modified using the `SetStatus()` function:"
   ]
  },
  {
   "cell_type": "code",
   "execution_count": null,
   "metadata": {},
   "outputs": [],
   "source": [
    "# modify spike generation to values 10 and 50 ms\n",
    "nest.SetStatus(spikegenerator,{'spike_times': [10.,50.]})"
   ]
  },
  {
   "cell_type": "markdown",
   "metadata": {},
   "source": [
    "Devices also have various parameters depending on their usage. For this particular device, we should only worry about the spike and time related parameters."
   ]
  },
  {
   "cell_type": "code",
   "execution_count": null,
   "metadata": {},
   "outputs": [],
   "source": [
    "nest.GetStatus(spikegenerator)"
   ]
  },
  {
   "cell_type": "code",
   "execution_count": null,
   "metadata": {},
   "outputs": [],
   "source": [
    "# create a voltmeter\n",
    "voltmeter=nest.Create('voltmeter')"
   ]
  },
  {
   "cell_type": "markdown",
   "metadata": {},
   "source": [
    "Let's connect the spike generator and the voltmeter to the neuron. SUGGESTION: use current injection first, show how this can generate spikes, then abstract to the spike generator"
   ]
  },
  {
   "cell_type": "code",
   "execution_count": null,
   "metadata": {},
   "outputs": [],
   "source": [
    "# connect spike generator with a given synaptic specification (weight)\n",
    "nest.Connect(spikegenerator, neuron, syn_spec={'weight':1e3})\n",
    "# connect voltmeter to the neuron for measurements\n",
    "nest.Connect(voltmeter, neuron)"
   ]
  },
  {
   "cell_type": "markdown",
   "metadata": {},
   "source": [
    "These connectivities are not reflected in the node's parameter list but you may use `GetConnections()` function to review them. The return value of this function is a tuple that contains a list in which the first and second values are the global source and target node identifiers (ids) in the simulation. These parameters are shown in the node's parameter list."
   ]
  },
  {
   "cell_type": "code",
   "execution_count": null,
   "metadata": {},
   "outputs": [],
   "source": [
    "# get status of connections of a given node\n",
    "nest.GetConnections(spikegenerator)"
   ]
  },
  {
   "cell_type": "markdown",
   "metadata": {},
   "source": [
    "**2.- Can you grab the value of the target id from the previous output?**"
   ]
  },
  {
   "cell_type": "code",
   "execution_count": null,
   "metadata": {},
   "outputs": [],
   "source": [
    "#nest.GetConnections(spikegenerator)[0][1] (to be removed)"
   ]
  },
  {
   "cell_type": "markdown",
   "metadata": {},
   "source": [
    "Simulate for 100 ms and observe the results"
   ]
  },
  {
   "cell_type": "code",
   "execution_count": null,
   "metadata": {},
   "outputs": [],
   "source": [
    "### run simulation for 100ms\n",
    "nest.Simulate(100.)\n",
    "\n",
    "# read out recording time and voltage from voltmeter (check the parameter list!)\n",
    "times=nest.GetStatus(voltmeter)[0]['events']['times']\n",
    "voltage=nest.GetStatus(voltmeter)[0]['events']['V_m']\n",
    "\n",
    "# plot results\n",
    "plt.plot(times,voltage)\n",
    "plt.xlabel('Time (ms)');\n",
    "plt.ylabel('Membrane potential (mV)')\n",
    "plt.grid(linestyle='-', linewidth=.25, alpha=.7)\n",
    "plt.show()"
   ]
  },
  {
   "cell_type": "markdown",
   "metadata": {},
   "source": [
    "**3.- What can we observe here? Are these neuron spikes?** What happens if we modify the external current `I_e` or the threshold voltage `V_th` of the neuron model? How about modifying the synaptic connection between the spike generator and the neuron?"
   ]
  },
  {
   "cell_type": "code",
   "execution_count": null,
   "metadata": {},
   "outputs": [],
   "source": [
    "#nest.SetStatus(neuron,{'V_th': -58.0}) or increasing syn_spec's weight by 10"
   ]
  },
  {
   "cell_type": "markdown",
   "metadata": {},
   "source": [
    "In this neuron model, the membrane potential does not follow the biologically observed dynamics that neurons have. Their use is limited to understand and experiment with network dynamics and spiking activity. \n",
    "\n",
    "For comparison, let's observe the membrane potential of a **Hodgkin-Huxley neuron model**."
   ]
  },
  {
   "cell_type": "markdown",
   "metadata": {},
   "source": [
    "<img src=\"https://www.researchgate.net/profile/Surachoke_Thanapitak/publication/303389501/figure/fig3/AS:364108500226050@1463821639890/Fig23-illustrates-the-components-of-the-Hodgkin-Huxley-model-The-capacitance-C-m-is.png\" width=450 height=450>"
   ]
  },
  {
   "cell_type": "markdown",
   "metadata": {},
   "source": [
    "SUGGESTION: Add a pitcture of the underlying model and describe some of the history, e.g. show https://www.researchgate.net/publication/276491039/figure/fig2/AS:615036821184523@1523647613862/The-squid-giant-axon-The-giant-axon-is-a-very-large-up-to-1-mm-in-diameter-and-long.pngThe HH-model (Hodgkin and Huxley, 1952) considers the *ionic channels* present on the cellular membrane. These channels allows the conduction of specific types of ions. Sodium channels (Na+) are scarce iunside the cell, so that when sodium channel opens, positive charges rush into the cell to cause excitation. Potassium ions (K+) are rich inside the cell, so that when potassium channel opens, positive charges rush out of the cell to cause inhibition. The model assumes a *leak* current composed of all other remaining ionic currents (Cl, Mg, etc.)\n",
    "\n",
    "This model is based on careful data analysis and follows the following equation:\n",
    "\n",
    "$$C \\frac{dV}{dt} = g_{Na}m^3h(E_{Na}-V) + g_Kn^4(E_K-V) + g_L(E_L-V) + I$$"
   ]
  },
  {
   "cell_type": "markdown",
   "metadata": {},
   "source": [
    "All these parameters can be seen and modified within the NEST framework for that particular neuron model!"
   ]
  },
  {
   "cell_type": "code",
   "execution_count": null,
   "metadata": {},
   "outputs": [],
   "source": [
    "nest.ResetKernel() # reset simulation kernel"
   ]
  },
  {
   "cell_type": "code",
   "execution_count": null,
   "metadata": {},
   "outputs": [],
   "source": [
    "# create Hodgkin-Huxley neuron with delta-shaped synaptic currents.\n",
    "neuron=nest.Create('hh_psc_alpha')"
   ]
  },
  {
   "cell_type": "code",
   "execution_count": null,
   "metadata": {},
   "outputs": [],
   "source": [
    "# get the parameter list and values of a node\n",
    "nest.GetStatus(neuron)"
   ]
  },
  {
   "cell_type": "markdown",
   "metadata": {},
   "source": [
    "As with the LIF neuron model, these parameters are expressed in standard units such as `mV` (milivolts), `pF` (picofaraday), `ms` (miliseconds),`nS` (nanosiemens, unit of conductance) and `pA` (picoamper). We will use the default values for them."
   ]
  },
  {
   "cell_type": "code",
   "execution_count": null,
   "metadata": {},
   "outputs": [],
   "source": [
    "# create a spike generator\n",
    "spikegenerator=nest.Create('spike_generator')"
   ]
  },
  {
   "cell_type": "code",
   "execution_count": null,
   "metadata": {},
   "outputs": [],
   "source": [
    "# modify spike generation with times 10 and 50 ms\n",
    "nest.SetStatus(spikegenerator,{'spike_times': [10.,50.]})"
   ]
  },
  {
   "cell_type": "code",
   "execution_count": null,
   "metadata": {},
   "outputs": [],
   "source": [
    "# create a voltmeter\n",
    "voltmeter=nest.Create('voltmeter')"
   ]
  },
  {
   "cell_type": "code",
   "execution_count": null,
   "metadata": {},
   "outputs": [],
   "source": [
    "# create add a spikedetector!\n",
    "spikedetector = nest.Create('spike_detector')"
   ]
  },
  {
   "cell_type": "code",
   "execution_count": null,
   "metadata": {},
   "outputs": [],
   "source": [
    "# connect spike generator with a given synaptic specification (weight)\n",
    "nest.Connect(spikegenerator, neuron, syn_spec={'weight':1e3})\n",
    "# connect voltmeter to the neuron for measurements\n",
    "nest.Connect(voltmeter, neuron)\n",
    "# connect spikedetector to the neuron\n",
    "nest.Connect(neuron, spikedetector)"
   ]
  },
  {
   "cell_type": "code",
   "execution_count": null,
   "metadata": {},
   "outputs": [],
   "source": [
    "### run simulation for 100ms\n",
    "nest.Simulate(100.)\n",
    "\n",
    "# read out recording time and voltage from voltmeter (check the parameter list!)\n",
    "times=nest.GetStatus(voltmeter)[0]['events']['times']\n",
    "voltage=nest.GetStatus(voltmeter)[0]['events']['V_m']\n",
    "\n",
    "# plot results\n",
    "plt.plot(times,voltage)\n",
    "plt.xlabel('Time (ms)');\n",
    "plt.ylabel('Membrane potential (mV)')\n",
    "plt.grid(linestyle='-', linewidth=.25, alpha=.7)\n",
    "plt.show()"
   ]
  },
  {
   "cell_type": "markdown",
   "metadata": {},
   "source": [
    "# THERE ARE NO SPIKES HERE YET. SHOULD I SHOW SPIKE ACTIVITY NOW @ THIS POINT OR ASK THEM TO MODIFY THE CODE? [TO BE DEFINED]. Yes, show spike activity here then perhaps guide them to create an F-I curve in the following modifications to the paramters"
   ]
  },
  {
   "cell_type": "markdown",
   "metadata": {},
   "source": [
    "**4.- Modify the previous example to observe spikes.** Then run the following cell to check if there were any spikes:"
   ]
  },
  {
   "cell_type": "code",
   "execution_count": null,
   "metadata": {},
   "outputs": [],
   "source": [
    "spikes=nest.GetStatus(spikedetector, \"n_events\")[0]\n",
    "print(\"Number of spikes: {0}\".format(spikes))"
   ]
  },
  {
   "cell_type": "markdown",
   "metadata": {},
   "source": [
    "Could you observe the spikes? Just after a spike, the membrane potential resets to -77 mV and a short refractory period of 2 ms (check these parameter values from the parameter list shown above!). During this period, the neuron is unable to react to excitation.\n",
    "\n",
    "**5.- Can you try exciting the neuron during this period to observe this phenomena?**"
   ]
  },
  {
   "cell_type": "markdown",
   "metadata": {},
   "source": [
    "### Connecting nodes with different inputs"
   ]
  },
  {
   "cell_type": "code",
   "execution_count": null,
   "metadata": {},
   "outputs": [],
   "source": [
    "nest.ResetKernel() # reset simulation kernel"
   ]
  },
  {
   "cell_type": "markdown",
   "metadata": {},
   "source": [
    "To compare neurons with different inputs, let's see how the parameters of the input affect the neurons' output. In the following example, we will use constant input current and a Poisson spike train with the same mean strength as the constant input current. The probability density function and firing rates of neurons will be shaped given by these inputs. "
   ]
  },
  {
   "cell_type": "markdown",
   "metadata": {},
   "source": [
    "First, let us define the parameters of the simulation and input currents."
   ]
  },
  {
   "cell_type": "code",
   "execution_count": null,
   "metadata": {},
   "outputs": [],
   "source": [
    "# simulation time\n",
    "T = 1.2e3 # (ms)\n",
    "# firing rate of external Poisson source\n",
    "nu_ext = 15e3 # (Hz)\n",
    "# synaptic weight\n",
    "J = 0.08 # (mV)\n",
    "# delay\n",
    "d = 0.1 # (ms)\n",
    "# membrane potential capacitance\n",
    "C = 250.0 # (pF)\n",
    "# mean input in pAa\n",
    "mu = J*1e-3*nu_ext*C\n",
    "# external current\n",
    "I_ext = mu"
   ]
  },
  {
   "cell_type": "markdown",
   "metadata": {},
   "source": [
    "We will create a dictionary for neuron parameters:"
   ]
  },
  {
   "cell_type": "code",
   "execution_count": null,
   "metadata": {},
   "outputs": [],
   "source": [
    "# neuron parameter\n",
    "neuron_params = {\n",
    "    'C_m': C, # (pF)\n",
    "    'E_L': 0., # (mV)\n",
    "    'I_e': 0.0, # (pA)\n",
    "    'V_m': 0., # (mV)\n",
    "    'V_reset': 0., # (mV)\n",
    "    'V_th': 15., # (mV)\n",
    "    't_ref': 2.0, # (ms)\n",
    "    'tau_m': 10.0, # (ms)\n",
    "}"
   ]
  },
  {
   "cell_type": "markdown",
   "metadata": {},
   "source": [
    "We can use this to pass as an argument of the `SetDefaults()` function. Whenever we create neurons after calling this function, the default parameter values will be those which we have defined previously."
   ]
  },
  {
   "cell_type": "code",
   "execution_count": null,
   "metadata": {},
   "outputs": [],
   "source": [
    "# set default neuron parameters\n",
    "nest.SetDefaults('iaf_psc_delta', neuron_params)"
   ]
  },
  {
   "cell_type": "code",
   "execution_count": null,
   "metadata": {},
   "outputs": [],
   "source": [
    "# create two 'iaf_psc_delta' neurons\n",
    "neurons = nest.Create('iaf_psc_delta', 2)"
   ]
  },
  {
   "cell_type": "markdown",
   "metadata": {},
   "source": [
    "Neuron id **0** will receieve constant current *I_ext* defined previously."
   ]
  },
  {
   "cell_type": "code",
   "execution_count": null,
   "metadata": {},
   "outputs": [],
   "source": [
    "# supply the first neuron with the constant current I_ext\n",
    "nest.SetStatus([neurons[0]], {'I_e': I_ext})"
   ]
  },
  {
   "cell_type": "markdown",
   "metadata": {},
   "source": [
    "Next, we create a poisson spike train using `poisson_generator` as device name. The parameter `rate` will be *nu_ext* defined previously. "
   ]
  },
  {
   "cell_type": "code",
   "execution_count": null,
   "metadata": {},
   "outputs": [],
   "source": [
    "# create Poisson generator with rate nu_ext\n",
    "poisson_generator = nest.Create('poisson_generator', params={'rate': nu_ext})"
   ]
  },
  {
   "cell_type": "markdown",
   "metadata": {},
   "source": [
    "In the following code we are creating the necessary devices for measuring the neurons' membrane potential and for detecting any spikes generated by them."
   ]
  },
  {
   "cell_type": "code",
   "execution_count": null,
   "metadata": {},
   "outputs": [],
   "source": [
    "# create two multimeter to record membrane potential of the neurons\n",
    "multimeters = nest.Create('multimeter', 2)\n",
    "# set the multimeters to record membrane potentials\n",
    "nest.SetStatus(multimeters, {'record_from': ['V_m']})\n",
    "# create two spike detectors to record spikes of neurons\n",
    "spikedetectors = nest.Create('spike_detector', 2)\n",
    "# set the spike detectors to record spike times and neuron identifiers, but not to record from file\n",
    "nest.SetStatus(spikedetectors, [{'withtime': True,'withgid': True,'to_file': False}])"
   ]
  },
  {
   "cell_type": "markdown",
   "metadata": {},
   "source": [
    "Let us connect the devices to the neurons:"
   ]
  },
  {
   "cell_type": "code",
   "execution_count": null,
   "metadata": {},
   "outputs": [],
   "source": [
    "# connect devices to neurons\n",
    "nest.Connect(poisson_generator, [neurons[1]], syn_spec={'weight':J, 'delay':d})\n",
    "nest.Connect(multimeters, neurons, 'one_to_one')\n",
    "nest.Connect(neurons, spikedetectors, 'one_to_one')"
   ]
  },
  {
   "cell_type": "markdown",
   "metadata": {},
   "source": [
    "In the previous piece of code, we specifically defined connections on a `one_to_one` fashion. This is needed because of the amount of possible connections that we have. Since we generated two of each node, we need to tell *NEST* that we just want this type of connection. Please review other type of connection specifications here:\n",
    "https://nest-simulator.org/connection_management/.\n",
    "\n",
    "Next, we will simulate this setup. We will need to save the measurements in lists for later plotting. Try to think by yourself what the parameters in this section mean."
   ]
  },
  {
   "cell_type": "code",
   "execution_count": null,
   "metadata": {},
   "outputs": [],
   "source": [
    "# simulate\n",
    "nest.Simulate(T)\n",
    "\n",
    "# readout lists. we will store data in these data structures.\n",
    "V_mem = []\n",
    "times = []\n",
    "spikes = []\n",
    "for i in range(2):\n",
    "    data = nest.GetStatus([multimeters[i]])[0]['events']\n",
    "    V_mem.append(data['V_m'])\n",
    "    times.append(data['times'])\n",
    "    spikes.append(nest.GetStatus([spikedetectors[i]])[0]['events']['times'])\n",
    "\n",
    "# plot histogram of membrane potentials of noise driven neuron\n",
    "fig1 = plt.figure(1)\n",
    "ax1 = fig1.add_subplot(111)\n",
    "ax1.hist(V_mem[1], 100)\n",
    "plt.xlabel(r'$V_m$ (mV)')\n",
    "plt.grid(linestyle='-', linewidth=.25, alpha=.7)\n",
    "\n",
    "# plot traces of membrane potential\n",
    "fig2 = plt.figure(2)\n",
    "plt.plot(times[0], V_mem[0], label='constant input')\n",
    "plt.plot(times[1], V_mem[1], label='Poisson input')\n",
    "plt.xlabel('Time (ms)')\n",
    "plt.ylabel(r'$V_m$ (mV)')\n",
    "plt.xlim([0., T])\n",
    "plt.ylim([-5., 20.])\n",
    "plt.legend()\n",
    "plt.grid(linestyle='-', linewidth=.25, alpha=.7)\n",
    "plt.show()"
   ]
  },
  {
   "cell_type": "markdown",
   "metadata": {},
   "source": [
    "Measure neurons' firing rate with the following code:"
   ]
  },
  {
   "cell_type": "code",
   "execution_count": null,
   "metadata": {},
   "outputs": [],
   "source": [
    "# calculate and print firing rate of neurons\n",
    "rate = float(len(spikes[0]))/T*1e3\n",
    "print('Rate of neuron stimulated with constant input: ', rate)\n",
    "rate = float(len(spikes[1]))/T*1e3\n",
    "print('Rate of neuron stimulated with Poisson input: ', rate)"
   ]
  },
  {
   "cell_type": "markdown",
   "metadata": {},
   "source": [
    "What!? There are no spikes?! Well, look at the figures and consider the threshold potential value `V_th`. Let's try increasing the synaptic strengh `J`. The neuron receiving Poisson input will be in different firing rate regimes!\n",
    "\n",
    "**6.- Try to make the neuron fire at an irregular regime. (J=0.09)**\n",
    "\n",
    "**7.- Try to make the neuron spike at a regular regime. (J=0.11)**"
   ]
  },
  {
   "cell_type": "markdown",
   "metadata": {},
   "source": [
    "Since we are using the LIF neuron model you will not be able to see *proper* spikes. Instead, you will only see the after-spike dynamics (membrane potential reset and refractory period).\n",
    "\n",
    "**8.- Repeat the simulation with HH neuron model?**"
   ]
  },
  {
   "cell_type": "markdown",
   "metadata": {},
   "source": [
    "## Well done!"
   ]
  }
 ],
 "metadata": {
  "kernelspec": {
   "display_name": "Python 3",
   "language": "python",
   "name": "python3"
  },
  "language_info": {
   "codemirror_mode": {
    "name": "ipython",
    "version": 3
   },
   "file_extension": ".py",
   "mimetype": "text/x-python",
   "name": "python",
   "nbconvert_exporter": "python",
   "pygments_lexer": "ipython3",
   "version": "3.7.3"
  }
 },
 "nbformat": 4,
 "nbformat_minor": 4
}
